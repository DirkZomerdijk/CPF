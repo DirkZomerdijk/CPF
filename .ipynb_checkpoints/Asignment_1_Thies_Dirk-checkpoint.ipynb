{
 "cells": [
  {
   "cell_type": "markdown",
   "metadata": {},
   "source": [
    "# Assignment 1: Black-Scholes Model and Binomial Tree\n",
    "\n",
    "\n",
    "\n",
    "## Part I:  *Option Valuation*"
   ]
  },
  {
   "cell_type": "code",
   "execution_count": 1,
   "metadata": {},
   "outputs": [],
   "source": [
    "# End time\n",
    "T = 1\n",
    "# number of steps\n",
    "M = 50\n",
    "\n",
    "# step_size\n",
    "dt = T/M\n",
    "\n",
    "# interest rate\n",
    "r = 0.06\n",
    "\n",
    "# stock Price\n",
    "S = 100\n",
    "\n",
    "# strike Price\n",
    "K = 99\n",
    "sigma = .2\n",
    "M = 50\n",
    "\n",
    "# \n",
    "a = np.exp(r*dt)\n",
    "\n",
    "# up\n",
    "u = np.exp(sigma*np.sqrt(dt))\n",
    "\n",
    "# down\n",
    "d = 1/u\n",
    "\n",
    "# probability\n",
    "p = (a - d) / (u - d)\n",
    "\n"
   ]
  },
  {
   "cell_type": "code",
   "execution_count": 36,
   "metadata": {},
   "outputs": [
    {
     "name": "stdout",
     "output_type": "stream",
     "text": [
      "Option value: 11.546434850755071\n"
     ]
    }
   ],
   "source": [
    "# data matrix\n",
    "data_dict = {}\n",
    "\n",
    "T = 1\n",
    "dt = T/M\n",
    "r = 0.06\n",
    "S = 100\n",
    "K = 99\n",
    "sigma = .2\n",
    "\n",
    "M = 50    \n",
    "\n",
    "a = np.exp(r*dt)\n",
    "u = np.exp(sigma*np.sqrt(dt))\n",
    "d = 1/u\n",
    "p = (a - d) / (u - d)\n",
    "\n",
    "W = np.zeros((M+1,1))\n",
    "\n",
    "# asset price at time T\n",
    "for n in range(0,M+1):\n",
    "    W[n] = S*(u**(M-n))*(d**(n));\n",
    "\n",
    "# option values at time T\n",
    "for n in range(0,M+1):\n",
    "    W[n] = max(W[n] - K,0)\n",
    "\n",
    "# retrace to get option value at time zero\n",
    "for i in range(M,0,-1):\n",
    "    for n in range(0,i):\n",
    "        W[n] = np.exp(-r*dt)*(p*W[n] + (1-p)*W[n+1])\n",
    "\n",
    "\n",
    "print('Option value: ' +str(W[0][0]))\n",
    "# print(data_dict)"
   ]
  },
  {
   "cell_type": "code",
   "execution_count": 3,
   "metadata": {},
   "outputs": [
    {
     "name": "stdout",
     "output_type": "stream",
     "text": [
      "[0.7712584]\n",
      "Option value for sigma=0.1: 8.14987435697091\n",
      "[0.70447916]\n",
      "Option value for sigma=0.15: 9.783050411398213\n",
      "[0.67255696]\n",
      "Option value for sigma=0.2: 11.546434850755071\n",
      "[0.6564095]\n",
      "Option value for sigma=0.25: 13.361930189752332\n",
      "[0.64854922]\n",
      "Option value for sigma=0.3: 15.20066321639792\n"
     ]
    }
   ],
   "source": [
    "# data matrix\n",
    "data_dict = {}\n",
    "W = np.zeros((M+1,1))\n",
    "M = 50\n",
    "\n",
    "for sigma in [0.1,0.15,0.2,0.25,0.3]:\n",
    "    \n",
    "    a = np.exp(r*dt)\n",
    "    u = np.exp(sigma*np.sqrt(dt))\n",
    "    d = 1/u\n",
    "    p = (a - d) / (u - d)\n",
    "    \n",
    "    # asset price at time T\n",
    "    for n in range(0,M+1):\n",
    "        W[n] = S*(u**(M-n))*(d**(n));\n",
    "    \n",
    "    # option values at time T\n",
    "    for n in range(0,M+1):\n",
    "        W[n] = max(W[n] - K,0)\n",
    "    \n",
    "    # retrace to get option value at time zero\n",
    "    for i in range(M,0,-1):\n",
    "        for n in range(0,i):\n",
    "            W[n] = np.exp(-r*dt)*(p*W[n] + (1-p)*W[n+1])\n",
    "        if i == 2:\n",
    "            # W[0] = W[n]\n",
    "            # W[1] = W[n+1]\n",
    "\n",
    "            f_up = W[0]\n",
    "            f_down = W[1]\n",
    "            S_up = S*u\n",
    "            S_down = S*d\n",
    "            \n",
    "            delta = (f_up-f_down)/(S_up-S_down)\n",
    "            print(delta)\n",
    "        \n",
    "    \n",
    "    data_dict[sigma] =  {\"option_value\" : W[0][0]}\n",
    "    \n",
    "\n",
    "    print('Option value for sigma='+str(sigma)+': '+str(W[0][0]))\n",
    "# print(data_dict)"
   ]
  },
  {
   "cell_type": "code",
   "execution_count": 33,
   "metadata": {},
   "outputs": [
    {
     "name": "stdout",
     "output_type": "stream",
     "text": [
      "50\n",
      "51\n",
      "102\n",
      "[1377]\n"
     ]
    }
   ],
   "source": [
    "import time\n",
    "import matplotlib.pyplot as plt\n",
    "import numpy as np\n",
    "import array\n",
    "\n",
    "\n",
    "# End time\n",
    "T = 1\n",
    "# number of steps\n",
    "M = 50\n",
    "\n",
    "# step_size\n",
    "dt = T/M\n",
    "\n",
    "# interest rate\n",
    "r = 0.06\n",
    "\n",
    "# stock Price\n",
    "S = 100\n",
    "\n",
    "# strike Price\n",
    "K = 99\n",
    "sigma = .2\n",
    "\n",
    "\n",
    "steps = []\n",
    "Ms = array.array('i',(i for i in range(50,5150, 150)))\n",
    "Ms=[50]\n",
    "for M in Ms:\n",
    "    step = 0\n",
    "    print(M)\n",
    "    dt = T/M\n",
    "    a = np.exp(r*dt)\n",
    "    u = np.exp(sigma*np.sqrt(dt))\n",
    "    d = 1/u\n",
    "    p = (a - d) / (u - d)\n",
    "    \n",
    "    W = np.zeros((M+1,1))\n",
    "\n",
    "    # asset price at time T\n",
    "    for n in range(0,M+1):\n",
    "        W[n] = S*(u**(M-n))*(d**(n));\n",
    "        step +=1\n",
    "    print(step)\n",
    "    \n",
    "    # option values at time T\n",
    "    for n in range(0,M+1):\n",
    "        W[n] = max(W[n] - K,0)\n",
    "        step+=1\n",
    "    print(step)\n",
    "    \n",
    "    # retrace to get option value at time zero\n",
    "    for i in range(M,0,-1):\n",
    "        for n in range(0,i):\n",
    "            W[n] = np.exp(-r*dt)*(p*W[n] + (1-p)*W[n+1])\n",
    "            step+=1\n",
    "    steps.append(step)\n",
    "\n",
    "#     print('duration for M='+str(M)+': '+str(duration))\n",
    "    \n",
    "print(steps)"
   ]
  },
  {
   "cell_type": "code",
   "execution_count": 10,
   "metadata": {},
   "outputs": [
    {
     "data": {
      "image/png": "[encoded data removed]",
      "text/plain": [
       "<Figure size 432x288 with 1 Axes>"
      ]
     },
     "metadata": {
      "needs_background": "light"
     },
     "output_type": "display_data"
    }
   ],
   "source": [
    "plt.plot(Ms,durations)\n",
    "plt.xlabel('Number of Steps (N)')\n",
    "plt.ylabel('Duration (s)')\n",
    "plt.title('Computational Complexity')\n",
    "# Hide the right and top spines\n",
    "# plt.spines['right'].set_visible(False)\n",
    "# plt.spines['top'].set_visible(False)\n",
    "plt.show()"
   ]
  },
  {
   "cell_type": "code",
   "execution_count": 35,
   "metadata": {},
   "outputs": [
    {
     "data": {
      "text/plain": [
       "1325.0"
      ]
     },
     "execution_count": 35,
     "metadata": {},
     "output_type": "execute_result"
    }
   ],
   "source": [
    "complexity = lambda N: N*(N+2)/2\n",
    "complexity(50)"
   ]
  },
  {
   "cell_type": "code",
   "execution_count": 81,
   "metadata": {},
   "outputs": [
    {
     "name": "stdout",
     "output_type": "stream",
     "text": [
      "16.656388744581253\n"
     ]
    }
   ],
   "source": [
    "import time\n",
    "import matplotlib.pyplot as plt\n",
    "import copy\n",
    "# End time\n",
    "T = 1\n",
    "# number of steps\n",
    "M = 50\n",
    "# step_size\n",
    "dt = T/M\n",
    "# interest rate\n",
    "r = 0.06\n",
    "# stock Price\n",
    "S = 100\n",
    "# strike Price\n",
    "K = 99\n",
    "sigma = .2\n",
    "\n",
    "start = time.time()\n",
    "dt = T/M\n",
    "a = np.exp(r*dt)\n",
    "u = np.exp(sigma*np.sqrt(dt))\n",
    "d = 1/u\n",
    "p = (a - d) / (u - d)\n",
    "\n",
    "W = np.zeros((M+1,1))\n",
    "\n",
    "Put = np.zeros(51)\n",
    "Call = np.zeros(51)\n",
    "# asset price at time T\n",
    "for n in range(0,M+1):\n",
    "    W[n] = S*(u**(M-n))*(d**(n));\n",
    "\n",
    "# option values at time T\n",
    "for n in range(0,M+1):\n",
    "    W[n] = max(W[n] - K,0)\n",
    "\n",
    "# retrace to get option value at time zero for a Call\n",
    "for i in range(M,0,-1):\n",
    "    for n in range(0,i):\n",
    "        W[n] = np.exp(-r*dt)*(p*W[n] + (1-p)*W[n+1])\n",
    "        \n",
    "        # CALL?\n",
    "        W[n] = max(S*(u**(i-n-1))*(d**n)-K, W[n])\n",
    "        \n",
    "# retrace to get option value at time zero for a PUT\n",
    "for i in range(M,0,-1):\n",
    "    for n in range(0,i):\n",
    "        W[n] = np.exp(-r*dt)*(p*W[n] + (1-p)*W[n+1])\n",
    "\n",
    "#         # PUT?\n",
    "        W[n] = max(K-S*(u**(i-n-1))*(d**n), W[n])\n",
    "\n",
    "print(W[0][0])        \n",
    "# print(Put[0])\n",
    "# print(Call[0])\n",
    "\n",
    "# CALL SHOULD BE THE SAME\n",
    "# PUT SHOULD BE DIFFERENT"
   ]
  },
  {
   "cell_type": "markdown",
   "metadata": {},
   "source": [
    "## Part II:  *Hedging Simulations*"
   ]
  }
 ],
 "metadata": {
  "kernelspec": {
   "display_name": "Python 3",
   "language": "python",
   "name": "python3"
  },
  "language_info": {
   "codemirror_mode": {
    "name": "ipython",
    "version": 3
   },
   "file_extension": ".py",
   "mimetype": "text/x-python",
   "name": "python",
   "nbconvert_exporter": "python",
   "pygments_lexer": "ipython3",
   "version": "3.6.4"
  },
  "varInspector": {
   "cols": {
    "lenName": 16,
    "lenType": 16,
    "lenVar": 40
   },
   "kernels_config": {
    "python": {
     "delete_cmd_postfix": "",
     "delete_cmd_prefix": "del ",
     "library": "var_list.py",
     "varRefreshCmd": "print(var_dic_list())"
    },
    "r": {
     "delete_cmd_postfix": ") ",
     "delete_cmd_prefix": "rm(",
     "library": "var_list.r",
     "varRefreshCmd": "cat(var_dic_list()) "
    }
   },
   "types_to_exclude": [
    "module",
    "function",
    "builtin_function_or_method",
    "instance",
    "_Feature"
   ],
   "window_display": false
  }
 },
 "nbformat": 4,
 "nbformat_minor": 2
}
