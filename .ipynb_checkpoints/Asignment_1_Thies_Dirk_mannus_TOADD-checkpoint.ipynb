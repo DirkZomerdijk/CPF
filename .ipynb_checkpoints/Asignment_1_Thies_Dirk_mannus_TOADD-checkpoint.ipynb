{
 "cells": [
  {
   "cell_type": "markdown",
   "metadata": {},
   "source": [
    "# Assignment 1: Black-Scholes Model and Binomial Tree Methods\n",
    "\n",
    "\n",
    "\n",
    "## Part I:  *Option Valuation*"
   ]
  },
  {
   "cell_type": "markdown",
   "metadata": {},
   "source": [
    "### 1. Write a binomial tree program to approximate the price of the option. Take a tree with 50 steps. How does your estimate compare to the analytical value? Experiment for different values of the volatility."
   ]
  },
  {
   "cell_type": "code",
   "execution_count": 9,
   "metadata": {},
   "outputs": [],
   "source": [
    "import numpy as np\n",
    "\n",
    "# Start time\n",
    "t = 0\n",
    "# End time\n",
    "T = 1\n",
    "# number of steps\n",
    "M = 50\n",
    "# length step\n",
    "dt = (T-t)/M\n",
    "# stock price\n",
    "S = 100\n",
    "# strike price\n",
    "K = 99\n",
    "# volatility\n",
    "sigma = .2\n",
    "# interest rate\n",
    "r = 0.06\n",
    "\n",
    "# up\n",
    "u = np.exp(sigma*np.sqrt(dt))\n",
    "# down\n",
    "d = 1/u\n",
    "# a\n",
    "a = np.exp(r*dt)\n",
    "# risk-neutral probability\n",
    "p = (a - d) / (u - d)"
   ]
  },
  {
   "cell_type": "code",
   "execution_count": 2,
   "metadata": {},
   "outputs": [
    {
     "name": "stdout",
     "output_type": "stream",
     "text": [
      "Option value: 11.546434850755071\n"
     ]
    }
   ],
   "source": [
    "W = np.zeros((M+1,1))\n",
    "\n",
    "# stock prices at time T\n",
    "for n in range(0,M+1):\n",
    "    W[n] = S*(u**(M-n))*(d**(n));\n",
    "\n",
    "# option values at time T\n",
    "for n in range(0,M+1):\n",
    "    W[n] = max(W[n] - K,0)\n",
    "\n",
    "# retrace to get option value at time zero\n",
    "for i in range(M,0,-1):\n",
    "    for n in range(0,i):\n",
    "        W[n] = np.exp(-r*dt)*(p*W[n] + (1-p)*W[n+1])\n",
    "\n",
    "print('Option value: ' +str(W[0][0]))"
   ]
  },
  {
   "cell_type": "code",
   "execution_count": 3,
   "metadata": {},
   "outputs": [
    {
     "name": "stdout",
     "output_type": "stream",
     "text": [
      "Analytical value: 11.544280227051097\n"
     ]
    }
   ],
   "source": [
    "from scipy.stats import norm\n",
    "\n",
    "d1 = (np.log(S/K) + (r + 0.5*sigma**2) * (T-t)) / (sigma*np.sqrt(T-t))\n",
    "d2 = d1 - sigma*np.sqrt(T-t)\n",
    "\n",
    "VCall = S * norm.cdf(d1) - K * np.exp(-r*(T-t)) * norm.cdf(d2)\n",
    "\n",
    "print('Analytical value: ' +str(VCall))"
   ]
  },
  {
   "cell_type": "code",
   "execution_count": 4,
   "metadata": {},
   "outputs": [
    {
     "name": "stderr",
     "output_type": "stream",
     "text": [
      "C:\\Users\\Thies\\Anaconda3\\lib\\site-packages\\ipykernel_launcher.py:21: RuntimeWarning: divide by zero encountered in double_scalars\n",
      "C:\\Users\\Thies\\Anaconda3\\lib\\site-packages\\ipykernel_launcher.py:34: RuntimeWarning: invalid value encountered in add\n"
     ]
    },
    {
     "data": {
      "text/plain": [
       "<Figure size 1600x1200 with 1 Axes>"
      ]
     },
     "metadata": {},
     "output_type": "display_data"
    }
   ],
   "source": [
    "import matplotlib.pyplot as plt\n",
    "import matplotlib.axes as axes\n",
    "from ipykernel import kernelapp as app\n",
    "\n",
    "sigmas = np.linspace(0,1,100)\n",
    "\n",
    "x = sigmas\n",
    "y = []\n",
    "\n",
    "for sigma in sigmas:\n",
    "    \n",
    "    W = np.zeros((M+1,1))\n",
    "    \n",
    "    # up\n",
    "    u = np.exp(sigma*np.sqrt(dt))\n",
    "    # down\n",
    "    d = 1/u\n",
    "    # a\n",
    "    a = np.exp(r*dt)\n",
    "    # risk-neutral probability\n",
    "    p = (a - d) / (u - d)\n",
    "    \n",
    "    # stock price at time T\n",
    "    for n in range(0,M+1):\n",
    "        W[n] = S*(u**(M-n))*(d**(n))\n",
    "    \n",
    "    # option values at time T\n",
    "    for n in range(0,M+1):\n",
    "        W[n] = max(W[n] - K,0)\n",
    "    \n",
    "    # retrace to get option value at time zero\n",
    "    for i in range(M,0,-1):\n",
    "        for n in range(0,i):\n",
    "            W[n] = np.exp(-r*dt)*(p*W[n] + (1-p)*W[n+1])\n",
    "        if i == 2:\n",
    "            # W[0] = W[n]\n",
    "            # W[1] = W[n+1]\n",
    "\n",
    "            f_up = W[0]\n",
    "            f_down = W[1]\n",
    "            S_up = S*u\n",
    "            S_down = S*d\n",
    "            \n",
    "            delta = (f_up-f_down)/(S_up-S_down)\n",
    "        \n",
    "    y.append(W[0][0])\n",
    "\n",
    "plt.figure(dpi=250)\n",
    "ax = plt.subplot(111)\n",
    "ax.plot(x,y)\n",
    "ax.set_xlabel('Volatility ($\\sigma$)')\n",
    "ax.set_ylabel('Option Value')\n",
    "ax.set_title('European Option Price for different Volatilities')\n",
    "ax.spines['top'].set_visible(False)\n",
    "ax.spines['right'].set_visible(False)\n",
    "ax.grid()\n",
    "plt.savefig('./images/EU_OptionPrice_Volatilities.png', bbox_inches='tight')\n",
    "plt.show()\n",
    "\n"
   ]
  },
  {
   "cell_type": "markdown",
   "metadata": {},
   "source": [
    "### 2. Study the convergence of the method for increasing number of steps in the tree. What is the computational complexity of this algorithm as a function of the number of steps in the tree?"
   ]
  },
  {
   "cell_type": "code",
   "execution_count": 5,
   "metadata": {},
   "outputs": [],
   "source": [
    "import array\n",
    "\n",
    "steps = []\n",
    "Ms = array.array('i',(i for i in range(50,2000, 50)))\n",
    "for M in Ms:\n",
    "    step = 0\n",
    "    \n",
    "    W = np.zeros((M+1,1))\n",
    "\n",
    "    dt = (T-t)/M\n",
    "    \n",
    "    # volatility\n",
    "    sigma = .2\n",
    "    # up\n",
    "    u = np.exp(sigma*np.sqrt(dt))\n",
    "    # down\n",
    "    d = 1/u\n",
    "    # a\n",
    "    a = np.exp(r*dt)\n",
    "    # risk-neutral probability\n",
    "    p = (a - d) / (u - d)\n",
    "    \n",
    "    # asset price at time T\n",
    "    for n in range(0,M+1):\n",
    "        W[n] = S*(u**(M-n))*(d**(n));\n",
    "\n",
    "    # option values at time T\n",
    "    for n in range(0,M+1):\n",
    "        W[n] = max(W[n] - K,0)\n",
    "        step+=1\n",
    "    \n",
    "    # retrace to get option value at time zero\n",
    "    for i in range(M,0,-1):\n",
    "        for n in range(0,i):\n",
    "            W[n] = np.exp(-r*dt)*(p*W[n] + (1-p)*W[n+1])\n",
    "            step+=1\n",
    "    \n",
    "    steps.append(step)\n",
    "\n",
    "#     print('duration for M='+str(M)+': '+str(duration))\n",
    "    \n",
    "# print(step)"
   ]
  },
  {
   "cell_type": "code",
   "execution_count": 6,
   "metadata": {},
   "outputs": [
    {
     "data": {
      "image/png": "[encoded data removed]",
      "text/plain": [
       "<Figure size 1500x1000 with 1 Axes>"
      ]
     },
     "metadata": {
      "needs_background": "light"
     },
     "output_type": "display_data"
    }
   ],
   "source": [
    "plt.figure(dpi=250)\n",
    "ax = plt.subplot(111)\n",
    "ax.plot(Ms,steps)\n",
    "ax.set_xlabel('Number of Timesteps (T/M)')\n",
    "ax.set_ylabel('Duration (steps)')\n",
    "ax.set_title('Computational Complexity')\n",
    "ax.spines['top'].set_visible(False)\n",
    "ax.spines['right'].set_visible(False)\n",
    "ax.grid()\n",
    "ax.axes.ticklabel_format(axis='y',style='sci',scilimits=(0,0))\n",
    "plt.savefig('./images/EU_Complexity.png', bbox_inches='tight')\n",
    "plt.show()"
   ]
  },
  {
   "cell_type": "code",
   "execution_count": 7,
   "metadata": {},
   "outputs": [
    {
     "data": {
      "text/plain": [
       "1377.0"
      ]
     },
     "execution_count": 7,
     "metadata": {},
     "output_type": "execute_result"
    }
   ],
   "source": [
    "complexity = lambda N: N**2/2 + 2*(N+1)\n",
    "complexity = lambda N: N*((N+1)+2)/2\n",
    "\n",
    "complexity(51)"
   ]
  },
  {
   "cell_type": "markdown",
   "metadata": {},
   "source": [
    "### 3. Compute the hedge parameter from the Binomial Tree model. Compare with the analytical values. Experiment for different values of the volatility."
   ]
  },
  {
   "cell_type": "markdown",
   "metadata": {},
   "source": [
    "### 4. Now suppose that the option is American. Change the code such that it can handle early exercise opportunities. What is the value of the American put and call for the corresponding parameters? Experiment for different values of the volatility."
   ]
  },
  {
   "cell_type": "code",
   "execution_count": 8,
   "metadata": {},
   "outputs": [
    {
     "name": "stdout",
     "output_type": "stream",
     "text": [
      "The option price for a American call: 11.546434850755071\n",
      "The option price for a American put: 16.656388744581253\n"
     ]
    }
   ],
   "source": [
    "# Start time\n",
    "t = 0\n",
    "# End time\n",
    "T = 1\n",
    "# number of steps\n",
    "M = 50\n",
    "# length step\n",
    "dt = (T-t)/M\n",
    "# stock price\n",
    "S = 100\n",
    "# strike price\n",
    "K = 99\n",
    "# volatility\n",
    "sigma = .2\n",
    "# interest rate\n",
    "r = 0.06\n",
    "\n",
    "def calc_US_option_price(T,M,option):\n",
    "    dt = T/M\n",
    "    a = np.exp(r*dt)\n",
    "    u = np.exp(sigma*np.sqrt(dt))\n",
    "    d = 1/u\n",
    "    p = (a - d) / (u - d)\n",
    "\n",
    "    W = np.zeros((M+1,1))\n",
    "    \n",
    "    # asset price at time T\n",
    "    for n in range(0,M+1):\n",
    "        W[n] = S*(u**(M-n))*(d**(n));\n",
    "\n",
    "    # option values at time T\n",
    "    for n in range(0,M+1):\n",
    "        W[n] = max(W[n] - K,0)\n",
    "\n",
    "    if option == 'put':\n",
    "        # retrace to get option value at time zero\n",
    "        for i in range(M,0,-1):\n",
    "            for n in range(0,i):\n",
    "                W[n] = np.exp(-r*dt)*(p*W[n] + (1-p)*W[n+1])\n",
    "\n",
    "                # PUT - Strike price - stock price at given t\n",
    "                W[n] = max(K-S*(u**(i-n-1))*(d**n), W[n])\n",
    "                \n",
    "    elif option == 'call':\n",
    "        for i in range(M,0,-1):\n",
    "            for n in range(0,i):\n",
    "                W[n] = np.exp(-r*dt)*(p*W[n] + (1-p)*W[n+1])\n",
    "\n",
    "                # CALL\n",
    "                W[n] = max(S*(u**(i-n-1))*(d**n)-K, W[n])\n",
    "\n",
    "    return W[0][0]\n",
    "\n",
    "print(\"The option price for a American call: \" + str(calc_US_option_price(T,M,'call')))\n",
    "print(\"The option price for a American put: \" + str(calc_US_option_price(T,M,'put')))\n",
    "\n",
    "# CALL SHOULD BE THE SAME\n",
    "# PUT SHOULD BE DIFFERENT"
   ]
  },
  {
   "cell_type": "markdown",
   "metadata": {},
   "source": [
    "## Part II:  *Hedging Simulations*"
   ]
  },
  {
   "cell_type": "code",
   "execution_count": 82,
   "metadata": {},
   "outputs": [
    {
     "name": "stdout",
     "output_type": "stream",
     "text": [
      "[0.6619679601726043, 0.3697228659768978, 0.33166692184392754, 0.26399865077005724, 0.8387543198199445, 0.9510464761078186, 0.9914642641272379, 0.9418135884189488, 0.9894582642530926, 0.9714035036379628, 0.953448228403564, 0.9973950246783622, 0.9919971313588297, 0.996722820885918, 0.7848230950053154, 0.2472474982201362, 0.385108976568104, 0.5199564909103099, 0.6032647184316006, 0.5629309637701568, 0.1692191986633227, 0.12649542221317472, 0.024026113242049656, 0.02598962608723791, 0.09944323472541916, 0.5494517268123749, 0.156623233754486, 0.011309254174605456, 0.004369719942999073, 0.07642178857884115, 0.0026349756735136883, 0.08663147180987307, 0.3097881066177067, 0.43125291234319263, 0.9206894008790618, 0.8813778158697014, 0.9999997086965439, 0.9999999939037563, 0.9999999997853269, 0.9999999975783814, 0.999999999999997, 0.9999999999999026, 0.9999999999999993, 0.9999999999962288, 0.9999998972723657, 0.9999999999999966, 1.0, 1.0, 1.0, 1.0, 1.0, 1.0, 1.0]\n"
     ]
    }
   ],
   "source": [
    "# Stock price\n",
    "S = 100\n",
    "r = 0.06\n",
    "sigma_option = 0.20\n",
    "K = 99\n",
    "T = 1\n",
    "M = 364\n",
    "dt = T / M\n",
    "\n",
    "def random_numbers():\n",
    "    epsilon = np.random.randn(M,1)\n",
    "    return epsilon\n",
    "    \n",
    "def Stock_price_dynamics(S, epsilon):\n",
    "    return r * S * dt + sigma * S * epsilon * np.sqrt(dt)\n",
    "\n",
    "def d1(S):\n",
    "\n",
    "    \n",
    "    return (np.log(S/K) + (r + 0.5*sigma**2) * (dt)) / (sigma*np.sqrt(dt))\n",
    "\n",
    "\n",
    "\n",
    "Stock_prices = []\n",
    "Stock_prices.append(S)\n",
    "\n",
    "epsilon = random_numbers()\n",
    "delta = []\n",
    "\n",
    "\n",
    "for i in range(1, M+1):\n",
    "    \n",
    "    Stock_prices.append(Stock_prices[i-1] + Stock_price_dynamics(Stock_prices[i-1], epsilon[i-1])[0])\n",
    "    \n",
    "    d11 = d1(Stock_prices[i-1])\n",
    "    delta.append(norm.cdf(d11))\n",
    "\n",
    "\n",
    "dt = T / (M/7)\n",
    "\n",
    "# week_delta = np.zeros((M/7,1))\n",
    "week_delta = []\n",
    "for i in range(0, M+1, 7):\n",
    "    d11 = d1(Stock_prices[i])\n",
    "    week_delta.append(norm.cdf(d11))\n",
    "print(week_delta)\n",
    "\n",
    "\n"
   ]
  },
  {
   "cell_type": "code",
   "execution_count": null,
   "metadata": {},
   "outputs": [],
   "source": [
    "plt.figure(dpi=250)\n",
    "ax = plt.subplot(111)\n",
    "ax.plot(Ms,steps)\n",
    "ax.set_xlabel('Number of Timesteps (T/M)')\n",
    "ax.set_ylabel('Duration (steps)')\n",
    "ax.set_title('Computational Complexity')\n",
    "ax.spines['top'].set_visible(False)\n",
    "ax.spines['right'].set_visible(False)\n",
    "ax.grid()\n",
    "ax.axes.ticklabel_format(axis='y',style='sci',scilimits=(0,0))\n",
    "plt.savefig('./images/EU_Complexity.png', bbox_inches='tight')\n",
    "plt.show()"
   ]
  }
 ],
 "metadata": {
  "kernelspec": {
   "display_name": "Python 3",
   "language": "python",
   "name": "python3"
  },
  "language_info": {
   "codemirror_mode": {
    "name": "ipython",
    "version": 3
   },
   "file_extension": ".py",
   "mimetype": "text/x-python",
   "name": "python",
   "nbconvert_exporter": "python",
   "pygments_lexer": "ipython3",
   "version": "3.6.4"
  },
  "varInspector": {
   "cols": {
    "lenName": 16,
    "lenType": 16,
    "lenVar": 40
   },
   "kernels_config": {
    "python": {
     "delete_cmd_postfix": "",
     "delete_cmd_prefix": "del ",
     "library": "var_list.py",
     "varRefreshCmd": "print(var_dic_list())"
    },
    "r": {
     "delete_cmd_postfix": ") ",
     "delete_cmd_prefix": "rm(",
     "library": "var_list.r",
     "varRefreshCmd": "cat(var_dic_list()) "
    }
   },
   "types_to_exclude": [
    "module",
    "function",
    "builtin_function_or_method",
    "instance",
    "_Feature"
   ],
   "window_display": false
  }
 },
 "nbformat": 4,
 "nbformat_minor": 2
}
