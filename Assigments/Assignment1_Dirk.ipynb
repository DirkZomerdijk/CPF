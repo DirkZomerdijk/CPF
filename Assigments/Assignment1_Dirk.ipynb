{
 "cells": [
  {
   "cell_type": "code",
   "execution_count": null,
   "metadata": {},
   "outputs": [],
   "source": [
    "# End time\n",
    "T = 1\n",
    "# number of steps\n",
    "M = 50\n",
    "\n",
    "# step_size\n",
    "dt = T/M\n",
    "\n",
    "# interest rate\n",
    "r = 0.06\n",
    "\n",
    "# stock Price\n",
    "S = 100\n",
    "\n",
    "# strike Price\n",
    "E = 99\n",
    "sigma = .2\n",
    "M = 50\n",
    "\n",
    "# \n",
    "a = np.exp(r*dt)\n",
    "\n",
    "# up\n",
    "u = np.exp(sigma*np.sqrt(dt))\n",
    "\n",
    "# down\n",
    "d = 1/u\n",
    "\n",
    "# probability\n",
    "p = (a - d) / (u - d)\n",
    "\n"
   ]
  },
  {
   "cell_type": "code",
   "execution_count": 177,
   "metadata": {},
   "outputs": [
    {
     "name": "stdout",
     "output_type": "stream",
     "text": [
      "[0.67255696]\n",
      "Option value: 11.546434850755071\n"
     ]
    }
   ],
   "source": [
    "# data matrix\n",
    "data_dict = {}\n",
    "\n",
    "T = 1\n",
    "dt = T/M\n",
    "r = 0.06\n",
    "S = 100\n",
    "E = 99\n",
    "sigma = .2\n",
    "\n",
    "M = 50    \n",
    "\n",
    "a = np.exp(r*dt)\n",
    "u = np.exp(sigma*np.sqrt(dt))\n",
    "d = 1/u\n",
    "p = (a - d) / (u - d)\n",
    "\n",
    "W = np.zeros((M+1,1))\n",
    "\n",
    "# asset price at time T\n",
    "for n in range(0,M+1):\n",
    "    W[n] = S*(u**(M-n))*(d**(n));\n",
    "\n",
    "# option values at time T\n",
    "for n in range(0,M+1):\n",
    "    W[n] = max(W[n] - E,0)\n",
    "\n",
    "# retrace to get option value at time zero\n",
    "for i in range(M,0,-1):\n",
    "    for n in range(0,i):\n",
    "        W[n] = np.exp(-r*dt)*(p*W[n] + (1-p)*W[n+1])\n",
    "\n",
    "\n",
    "print('Option value: ' +str(W[0][0]))\n",
    "# print(data_dict)"
   ]
  },
  {
   "cell_type": "code",
   "execution_count": 178,
   "metadata": {},
   "outputs": [
    {
     "name": "stdout",
     "output_type": "stream",
     "text": [
      "[0.7712584]\n",
      "Option value for sigma=0.1: 8.14987435697091\n",
      "[0.70447916]\n",
      "Option value for sigma=0.15: 9.783050411398213\n",
      "[0.67255696]\n",
      "Option value for sigma=0.2: 11.546434850755071\n",
      "[0.6564095]\n",
      "Option value for sigma=0.25: 13.361930189752332\n",
      "[0.64854922]\n",
      "Option value for sigma=0.3: 15.20066321639792\n"
     ]
    }
   ],
   "source": [
    "# data matrix\n",
    "data_dict = {}\n",
    "W = np.zeros((M+1,1))\n",
    "M = 50\n",
    "\n",
    "for sigma in [0.1,0.15,0.2,0.25,0.3]:\n",
    "    \n",
    "    a = np.exp(r*dt)\n",
    "    u = np.exp(sigma*np.sqrt(dt))\n",
    "    d = 1/u\n",
    "    p = (a - d) / (u - d)\n",
    "    \n",
    "    # asset price at time T\n",
    "    for n in range(0,M+1):\n",
    "        W[n] = S*(u**(M-n))*(d**(n));\n",
    "    \n",
    "    # option values at time T\n",
    "    for n in range(0,M+1):\n",
    "        W[n] = max(W[n] - E,0)\n",
    "    \n",
    "    # retrace to get option value at time zero\n",
    "    for i in range(M,0,-1):\n",
    "        for n in range(0,i):\n",
    "            W[n] = np.exp(-r*dt)*(p*W[n] + (1-p)*W[n+1])\n",
    "        if i == 2:\n",
    "            # W[0] = W[n]\n",
    "            # W[1] = W[n+1]\n",
    "\n",
    "            f_up = W[0]\n",
    "            f_down = W[1]\n",
    "            S_up = S*u\n",
    "            S_down = S*d\n",
    "            \n",
    "            delta = (f_up-f_down)/(S_up-S_down)\n",
    "            print(delta)\n",
    "        \n",
    "    \n",
    "    data_dict[sigma] =  {\"option_value\" : W[0][0]}\n",
    "    \n",
    "\n",
    "    print('Option value for sigma='+str(sigma)+': '+str(W[0][0]))\n",
    "# print(data_dict)"
   ]
  },
  {
   "cell_type": "code",
   "execution_count": 172,
   "metadata": {},
   "outputs": [],
   "source": [
    "import time\n",
    "import matplotlib.pyplot as plt\n",
    "# End time\n",
    "T = 1\n",
    "# number of steps\n",
    "M = 50\n",
    "\n",
    "# step_size\n",
    "dt = T/M\n",
    "\n",
    "# interest rate\n",
    "r = 0.06\n",
    "\n",
    "# stock Price\n",
    "S = 100\n",
    "\n",
    "# strike Price\n",
    "E = 99\n",
    "sigma = .2\n",
    "\n",
    "\n",
    "durations = []\n",
    "Ms = [50,100,200,400,800,1600]\n",
    "for M in Ms:\n",
    "    start = time.time()\n",
    "    dt = T/M\n",
    "    a = np.exp(r*dt)\n",
    "    u = np.exp(sigma*np.sqrt(dt))\n",
    "    d = 1/u\n",
    "    p = (a - d) / (u - d)\n",
    "    \n",
    "    W = np.zeros((M+1,1))\n",
    "\n",
    "    # asset price at time T\n",
    "    for n in range(0,M+1):\n",
    "        W[n] = S*(u**(M-n))*(d**(n));\n",
    "    \n",
    "    # option values at time T\n",
    "    for n in range(0,M+1):\n",
    "        W[n] = max(W[n] - E,0)\n",
    "    \n",
    "    # retrace to get option value at time zero\n",
    "    for i in range(M,0,-1):\n",
    "        for n in range(0,i):\n",
    "            W[n] = np.exp(-r*dt)*(p*W[n] + (1-p)*W[n+1])\n",
    "    end = time.time()\n",
    "    duration = end - start\n",
    "    durations.append(duration)\n",
    "\n",
    "#     print('duration for M='+str(M)+': '+str(duration))\n",
    "    \n"
   ]
  },
  {
   "cell_type": "code",
   "execution_count": 173,
   "metadata": {},
   "outputs": [
    {
     "data": {
      "image/png": "[encoded data removed]",
      "text/plain": [
       "<Figure size 432x288 with 1 Axes>"
      ]
     },
     "metadata": {
      "needs_background": "light"
     },
     "output_type": "display_data"
    }
   ],
   "source": [
    "plt.plot(Ms,durations)\n",
    "plt.xlabel('Number of Steps (N)')\n",
    "plt.ylabel('Duration (s)')\n",
    "plt.title('Computational Complexity')\n",
    "plt.show()"
   ]
  },
  {
   "cell_type": "code",
   "execution_count": 212,
   "metadata": {},
   "outputs": [
    {
     "ename": "TypeError",
     "evalue": "only integer scalar arrays can be converted to a scalar index",
     "output_type": "error",
     "traceback": [
      "\u001b[1;31m---------------------------------------------------------------------------\u001b[0m",
      "\u001b[1;31mTypeError\u001b[0m                                 Traceback (most recent call last)",
      "\u001b[1;32m<ipython-input-212-301d1656df2e>\u001b[0m in \u001b[0;36m<module>\u001b[1;34m()\u001b[0m\n\u001b[0;32m     37\u001b[0m         \u001b[0mW\u001b[0m\u001b[1;33m[\u001b[0m\u001b[0mn\u001b[0m\u001b[1;33m]\u001b[0m \u001b[1;33m=\u001b[0m \u001b[0mnp\u001b[0m\u001b[1;33m.\u001b[0m\u001b[0mexp\u001b[0m\u001b[1;33m(\u001b[0m\u001b[1;33m-\u001b[0m\u001b[0mr\u001b[0m\u001b[1;33m*\u001b[0m\u001b[0mdt\u001b[0m\u001b[1;33m)\u001b[0m\u001b[1;33m*\u001b[0m\u001b[1;33m(\u001b[0m\u001b[0mp\u001b[0m\u001b[1;33m*\u001b[0m\u001b[0mW\u001b[0m\u001b[1;33m[\u001b[0m\u001b[0mn\u001b[0m\u001b[1;33m]\u001b[0m \u001b[1;33m+\u001b[0m \u001b[1;33m(\u001b[0m\u001b[1;36m1\u001b[0m\u001b[1;33m-\u001b[0m\u001b[0mp\u001b[0m\u001b[1;33m)\u001b[0m\u001b[1;33m*\u001b[0m\u001b[0mW\u001b[0m\u001b[1;33m[\u001b[0m\u001b[0mn\u001b[0m\u001b[1;33m+\u001b[0m\u001b[1;36m1\u001b[0m\u001b[1;33m]\u001b[0m\u001b[1;33m)\u001b[0m\u001b[1;33m\u001b[0m\u001b[0m\n\u001b[0;32m     38\u001b[0m \u001b[1;31m#         print(i-n-1)\u001b[0m\u001b[1;33m\u001b[0m\u001b[1;33m\u001b[0m\u001b[0m\n\u001b[1;32m---> 39\u001b[1;33m         \u001b[0mW\u001b[0m\u001b[1;33m[\u001b[0m\u001b[0mn\u001b[0m\u001b[1;33m]\u001b[0m \u001b[1;33m=\u001b[0m \u001b[0mnp\u001b[0m\u001b[1;33m.\u001b[0m\u001b[0mmax\u001b[0m\u001b[1;33m(\u001b[0m\u001b[0mS\u001b[0m\u001b[1;33m*\u001b[0m\u001b[0mu\u001b[0m\u001b[1;33m**\u001b[0m\u001b[1;33m(\u001b[0m\u001b[0mi\u001b[0m\u001b[1;33m-\u001b[0m\u001b[0mn\u001b[0m\u001b[1;33m-\u001b[0m\u001b[1;36m1\u001b[0m\u001b[1;33m)\u001b[0m\u001b[1;33m*\u001b[0m\u001b[0md\u001b[0m\u001b[1;33m**\u001b[0m\u001b[1;33m(\u001b[0m\u001b[0mn\u001b[0m\u001b[1;33m)\u001b[0m\u001b[1;33m-\u001b[0m\u001b[0mE\u001b[0m\u001b[1;33m,\u001b[0m \u001b[0mW\u001b[0m\u001b[1;33m[\u001b[0m\u001b[0mn\u001b[0m\u001b[1;33m]\u001b[0m\u001b[1;33m)\u001b[0m\u001b[1;33m\u001b[0m\u001b[0m\n\u001b[0m\u001b[0;32m     40\u001b[0m \u001b[1;31m#         print(exercise_price)\u001b[0m\u001b[1;33m\u001b[0m\u001b[1;33m\u001b[0m\u001b[0m\n\u001b[0;32m     41\u001b[0m \u001b[0mprint\u001b[0m\u001b[1;33m(\u001b[0m\u001b[0mW\u001b[0m\u001b[1;33m[\u001b[0m\u001b[1;36m0\u001b[0m\u001b[1;33m]\u001b[0m\u001b[1;33m[\u001b[0m\u001b[1;36m0\u001b[0m\u001b[1;33m]\u001b[0m\u001b[1;33m)\u001b[0m\u001b[1;33m\u001b[0m\u001b[0m\n",
      "\u001b[1;32m~\\Miniconda3\\lib\\site-packages\\numpy\\core\\fromnumeric.py\u001b[0m in \u001b[0;36mamax\u001b[1;34m(a, axis, out, keepdims, initial)\u001b[0m\n\u001b[0;32m   2503\u001b[0m     \"\"\"\n\u001b[0;32m   2504\u001b[0m     return _wrapreduction(a, np.maximum, 'max', axis, None, out, keepdims=keepdims,\n\u001b[1;32m-> 2505\u001b[1;33m                           initial=initial)\n\u001b[0m\u001b[0;32m   2506\u001b[0m \u001b[1;33m\u001b[0m\u001b[0m\n\u001b[0;32m   2507\u001b[0m \u001b[1;33m\u001b[0m\u001b[0m\n",
      "\u001b[1;32m~\\Miniconda3\\lib\\site-packages\\numpy\\core\\fromnumeric.py\u001b[0m in \u001b[0;36m_wrapreduction\u001b[1;34m(obj, ufunc, method, axis, dtype, out, **kwargs)\u001b[0m\n\u001b[0;32m     82\u001b[0m                 \u001b[1;32mreturn\u001b[0m \u001b[0mreduction\u001b[0m\u001b[1;33m(\u001b[0m\u001b[0maxis\u001b[0m\u001b[1;33m=\u001b[0m\u001b[0maxis\u001b[0m\u001b[1;33m,\u001b[0m \u001b[0mdtype\u001b[0m\u001b[1;33m=\u001b[0m\u001b[0mdtype\u001b[0m\u001b[1;33m,\u001b[0m \u001b[0mout\u001b[0m\u001b[1;33m=\u001b[0m\u001b[0mout\u001b[0m\u001b[1;33m,\u001b[0m \u001b[1;33m**\u001b[0m\u001b[0mpasskwargs\u001b[0m\u001b[1;33m)\u001b[0m\u001b[1;33m\u001b[0m\u001b[0m\n\u001b[0;32m     83\u001b[0m             \u001b[1;32melse\u001b[0m\u001b[1;33m:\u001b[0m\u001b[1;33m\u001b[0m\u001b[0m\n\u001b[1;32m---> 84\u001b[1;33m                 \u001b[1;32mreturn\u001b[0m \u001b[0mreduction\u001b[0m\u001b[1;33m(\u001b[0m\u001b[0maxis\u001b[0m\u001b[1;33m=\u001b[0m\u001b[0maxis\u001b[0m\u001b[1;33m,\u001b[0m \u001b[0mout\u001b[0m\u001b[1;33m=\u001b[0m\u001b[0mout\u001b[0m\u001b[1;33m,\u001b[0m \u001b[1;33m**\u001b[0m\u001b[0mpasskwargs\u001b[0m\u001b[1;33m)\u001b[0m\u001b[1;33m\u001b[0m\u001b[0m\n\u001b[0m\u001b[0;32m     85\u001b[0m \u001b[1;33m\u001b[0m\u001b[0m\n\u001b[0;32m     86\u001b[0m     \u001b[1;32mreturn\u001b[0m \u001b[0mufunc\u001b[0m\u001b[1;33m.\u001b[0m\u001b[0mreduce\u001b[0m\u001b[1;33m(\u001b[0m\u001b[0mobj\u001b[0m\u001b[1;33m,\u001b[0m \u001b[0maxis\u001b[0m\u001b[1;33m,\u001b[0m \u001b[0mdtype\u001b[0m\u001b[1;33m,\u001b[0m \u001b[0mout\u001b[0m\u001b[1;33m,\u001b[0m \u001b[1;33m**\u001b[0m\u001b[0mpasskwargs\u001b[0m\u001b[1;33m)\u001b[0m\u001b[1;33m\u001b[0m\u001b[0m\n",
      "\u001b[1;32m~\\Miniconda3\\lib\\site-packages\\numpy\\core\\_methods.py\u001b[0m in \u001b[0;36m_amax\u001b[1;34m(a, axis, out, keepdims, initial)\u001b[0m\n\u001b[0;32m     26\u001b[0m def _amax(a, axis=None, out=None, keepdims=False,\n\u001b[0;32m     27\u001b[0m           initial=_NoValue):\n\u001b[1;32m---> 28\u001b[1;33m     \u001b[1;32mreturn\u001b[0m \u001b[0mumr_maximum\u001b[0m\u001b[1;33m(\u001b[0m\u001b[0ma\u001b[0m\u001b[1;33m,\u001b[0m \u001b[0maxis\u001b[0m\u001b[1;33m,\u001b[0m \u001b[1;32mNone\u001b[0m\u001b[1;33m,\u001b[0m \u001b[0mout\u001b[0m\u001b[1;33m,\u001b[0m \u001b[0mkeepdims\u001b[0m\u001b[1;33m,\u001b[0m \u001b[0minitial\u001b[0m\u001b[1;33m)\u001b[0m\u001b[1;33m\u001b[0m\u001b[0m\n\u001b[0m\u001b[0;32m     29\u001b[0m \u001b[1;33m\u001b[0m\u001b[0m\n\u001b[0;32m     30\u001b[0m def _amin(a, axis=None, out=None, keepdims=False,\n",
      "\u001b[1;31mTypeError\u001b[0m: only integer scalar arrays can be converted to a scalar index"
     ]
    }
   ],
   "source": [
    "import time\n",
    "import matplotlib.pyplot as plt\n",
    "# End time\n",
    "T = 1\n",
    "# number of steps\n",
    "M = 50\n",
    "# step_size\n",
    "dt = T/M\n",
    "# interest rate\n",
    "r = 0.06\n",
    "# stock Price\n",
    "S = 100\n",
    "# strike Price\n",
    "E = 99\n",
    "sigma = .2\n",
    "\n",
    "start = time.time()\n",
    "dt = T/M\n",
    "a = np.exp(r*dt)\n",
    "u = np.exp(sigma*np.sqrt(dt))\n",
    "d = 1/u\n",
    "p = (a - d) / (u - d)\n",
    "\n",
    "W = np.zeros((M+1,1))\n",
    "\n",
    "# asset price at time T\n",
    "for n in range(0,M+1):\n",
    "    W[n] = S*(u**(M-n))*(d**(n));\n",
    "\n",
    "# option values at time T\n",
    "for n in range(0,M+1):\n",
    "    W[n] = max(W[n] - E,0)\n",
    "\n",
    "# retrace to get option value at time zero\n",
    "for i in range(M,0,-1):\n",
    "    for n in range(0,i):\n",
    "        W[n] = np.exp(-r*dt)*(p*W[n] + (1-p)*W[n+1])\n",
    "#         print(i-n-1)\n",
    "        W[n] = np.max(S*u**(i-n-1)*d**(n)-E, W[n])\n",
    "#         print(exercise_price)\n",
    "print(W[0][0])        "
   ]
  },
  {
   "cell_type": "code",
   "execution_count": null,
   "metadata": {},
   "outputs": [],
   "source": []
  }
 ],
 "metadata": {
  "celltoolbar": "Tags",
  "kernelspec": {
   "display_name": "Python 3",
   "language": "python",
   "name": "python3"
  },
  "language_info": {
   "codemirror_mode": {
    "name": "ipython",
    "version": 3
   },
   "file_extension": ".py",
   "mimetype": "text/x-python",
   "name": "python",
   "nbconvert_exporter": "python",
   "pygments_lexer": "ipython3",
   "version": "3.7.2"
  },
  "varInspector": {
   "cols": {
    "lenName": 16,
    "lenType": 16,
    "lenVar": 40
   },
   "kernels_config": {
    "python": {
     "delete_cmd_postfix": "",
     "delete_cmd_prefix": "del ",
     "library": "var_list.py",
     "varRefreshCmd": "print(var_dic_list())"
    },
    "r": {
     "delete_cmd_postfix": ") ",
     "delete_cmd_prefix": "rm(",
     "library": "var_list.r",
     "varRefreshCmd": "cat(var_dic_list()) "
    }
   },
   "types_to_exclude": [
    "module",
    "function",
    "builtin_function_or_method",
    "instance",
    "_Feature"
   ],
   "window_display": false
  }
 },
 "nbformat": 4,
 "nbformat_minor": 2
}
